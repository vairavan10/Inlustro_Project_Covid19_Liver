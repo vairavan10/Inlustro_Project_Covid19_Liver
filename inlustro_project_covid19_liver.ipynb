{
  "nbformat": 4,
  "nbformat_minor": 0,
  "metadata": {
    "colab": {
      "provenance": []
    },
    "kernelspec": {
      "name": "python3",
      "display_name": "Python 3"
    },
    "language_info": {
      "name": "python"
    }
  },
  "cells": [
    {
      "cell_type": "code",
      "execution_count": 1,
      "metadata": {
        "id": "FPnO98DaiLr4"
      },
      "outputs": [],
      "source": [
        "import pandas as pd\n",
        "import numpy as np\n",
        "from scipy import stats\n",
        "import seaborn as sns\n",
        "import matplotlib.pyplot as plt"
      ]
    },
    {
      "cell_type": "code",
      "source": [
        "import pandas as pd\n",
        "\n",
        "# Try reading the CSV file with different encodings\n",
        "try:\n",
        "    df = pd.read_csv(r'covid-liver1.csv', encoding='latin1')\n",
        "except UnicodeDecodeError:\n",
        "    df = pd.read_csv(r'covid-liver1.csv', encoding='ISO-8859-1')\n"
      ],
      "metadata": {
        "id": "FYqBMTedjHNV"
      },
      "execution_count": 31,
      "outputs": []
    },
    {
      "cell_type": "code",
      "source": [
        "df"
      ],
      "metadata": {
        "colab": {
          "base_uri": "https://localhost:8080/",
          "height": 444
        },
        "id": "LMCoN2ZTjOHI",
        "outputId": "a2a0911e-6190-4de4-ee75-ac24bbcfa5e1"
      },
      "execution_count": 32,
      "outputs": [
        {
          "output_type": "execute_result",
          "data": {
            "text/plain": [
              "    Cancer         Year  Month Bleed Mode_Presentation  Age Gender Etiology  \\\n",
              "0        Y  Prepandemic      1     N      Surveillance   68      M     0FLD   \n",
              "1        Y  Prepandemic      1     N      Surveillance   70      M     ARLD   \n",
              "2        Y  Prepandemic      1     N      Surveillance   64      M     ARLD   \n",
              "3        Y  Prepandemic      1     N        Incidental   73      M     ARLD   \n",
              "4        Y  Prepandemic      1     N        Incidental   66      F     ARLD   \n",
              "..     ...          ...    ...   ...               ...  ...    ...      ...   \n",
              "445      N     Pandemic     12     0       Symptomatic   72      F        0   \n",
              "446      N     Pandemic     12     0       Symptomatic   63      M        0   \n",
              "447      N     Pandemic     12     0       Symptomatic   79      F        0   \n",
              "448      N     Pandemic     12     0       Symptomatic   84      F        0   \n",
              "449      N     Pandemic     12     0        Incidental   80      F        0   \n",
              "\n",
              "    Cirrhosis  Size  ... Surveillance_programme Surveillance_effectiveness  \\\n",
              "0           Y    22  ...                      Y                 Consistent   \n",
              "1           Y    40  ...                      Y                 Consistent   \n",
              "2           Y    52  ...                      Y                 Consistent   \n",
              "3           Y    80  ...                      N                          0   \n",
              "4           Y    60  ...                      N                          0   \n",
              "..        ...   ...  ...                    ...                        ...   \n",
              "445         0     0  ...                      0                          0   \n",
              "446         0    75  ...                      0                          0   \n",
              "447         0    63  ...                      0                          0   \n",
              "448         0    65  ...                      0                          0   \n",
              "449         0    45  ...                      0                          0   \n",
              "\n",
              "    Mode_of_surveillance_detection Time_diagnosis_1st_Tx  \\\n",
              "0                               US                  0.47   \n",
              "1                               US                  0.00   \n",
              "2                               US                  0.00   \n",
              "3                                0                  0.00   \n",
              "4                                0                  0.00   \n",
              "..                             ...                   ...   \n",
              "445                              0                  0.00   \n",
              "446                              0                  2.93   \n",
              "447                              0                  0.00   \n",
              "448                              0                  0.00   \n",
              "449                              0                  0.00   \n",
              "\n",
              "     Date_incident_surveillance_scan PS Time_MDM_1st_treatment  \\\n",
              "0                                  0  0                   0.70   \n",
              "1                                  0  2                   0.00   \n",
              "2                                  0  0                   0.00   \n",
              "3                                  0  2                   0.00   \n",
              "4                                  0  0                   0.00   \n",
              "..                               ... ..                    ...   \n",
              "445                                0  1                   0.00   \n",
              "446                                0  0                   1.63   \n",
              "447                                0  1                   0.00   \n",
              "448                                0  2                   0.00   \n",
              "449                                0  2                   0.00   \n",
              "\n",
              "    Time_decisiontotreat_1st_treatment Prev_known_cirrhosis  \\\n",
              "0                                 0.00                    Y   \n",
              "1                                 0.00                    Y   \n",
              "2                                 0.00                    Y   \n",
              "3                                 0.00                    Y   \n",
              "4                                 0.00                    Y   \n",
              "..                                 ...                  ...   \n",
              "445                               0.00                    Y   \n",
              "446                               1.63                    Y   \n",
              "447                               0.00                    Y   \n",
              "448                               0.00                    Y   \n",
              "449                               0.00                    Y   \n",
              "\n",
              "    Months_from_last_surveillance  \n",
              "0                        7.333333  \n",
              "1                        4.033333  \n",
              "2                        5.900000  \n",
              "3                        0.000000  \n",
              "4                        0.000000  \n",
              "..                            ...  \n",
              "445                      0.000000  \n",
              "446                      0.000000  \n",
              "447                      0.000000  \n",
              "448                      0.000000  \n",
              "449                      0.000000  \n",
              "\n",
              "[450 rows x 27 columns]"
            ],
            "text/html": [
              "\n",
              "  <div id=\"df-a138a52d-5bdc-48d2-84a5-94799dbc1ac1\" class=\"colab-df-container\">\n",
              "    <div>\n",
              "<style scoped>\n",
              "    .dataframe tbody tr th:only-of-type {\n",
              "        vertical-align: middle;\n",
              "    }\n",
              "\n",
              "    .dataframe tbody tr th {\n",
              "        vertical-align: top;\n",
              "    }\n",
              "\n",
              "    .dataframe thead th {\n",
              "        text-align: right;\n",
              "    }\n",
              "</style>\n",
              "<table border=\"1\" class=\"dataframe\">\n",
              "  <thead>\n",
              "    <tr style=\"text-align: right;\">\n",
              "      <th></th>\n",
              "      <th>Cancer</th>\n",
              "      <th>Year</th>\n",
              "      <th>Month</th>\n",
              "      <th>Bleed</th>\n",
              "      <th>Mode_Presentation</th>\n",
              "      <th>Age</th>\n",
              "      <th>Gender</th>\n",
              "      <th>Etiology</th>\n",
              "      <th>Cirrhosis</th>\n",
              "      <th>Size</th>\n",
              "      <th>...</th>\n",
              "      <th>Surveillance_programme</th>\n",
              "      <th>Surveillance_effectiveness</th>\n",
              "      <th>Mode_of_surveillance_detection</th>\n",
              "      <th>Time_diagnosis_1st_Tx</th>\n",
              "      <th>Date_incident_surveillance_scan</th>\n",
              "      <th>PS</th>\n",
              "      <th>Time_MDM_1st_treatment</th>\n",
              "      <th>Time_decisiontotreat_1st_treatment</th>\n",
              "      <th>Prev_known_cirrhosis</th>\n",
              "      <th>Months_from_last_surveillance</th>\n",
              "    </tr>\n",
              "  </thead>\n",
              "  <tbody>\n",
              "    <tr>\n",
              "      <th>0</th>\n",
              "      <td>Y</td>\n",
              "      <td>Prepandemic</td>\n",
              "      <td>1</td>\n",
              "      <td>N</td>\n",
              "      <td>Surveillance</td>\n",
              "      <td>68</td>\n",
              "      <td>M</td>\n",
              "      <td>0FLD</td>\n",
              "      <td>Y</td>\n",
              "      <td>22</td>\n",
              "      <td>...</td>\n",
              "      <td>Y</td>\n",
              "      <td>Consistent</td>\n",
              "      <td>US</td>\n",
              "      <td>0.47</td>\n",
              "      <td>0</td>\n",
              "      <td>0</td>\n",
              "      <td>0.70</td>\n",
              "      <td>0.00</td>\n",
              "      <td>Y</td>\n",
              "      <td>7.333333</td>\n",
              "    </tr>\n",
              "    <tr>\n",
              "      <th>1</th>\n",
              "      <td>Y</td>\n",
              "      <td>Prepandemic</td>\n",
              "      <td>1</td>\n",
              "      <td>N</td>\n",
              "      <td>Surveillance</td>\n",
              "      <td>70</td>\n",
              "      <td>M</td>\n",
              "      <td>ARLD</td>\n",
              "      <td>Y</td>\n",
              "      <td>40</td>\n",
              "      <td>...</td>\n",
              "      <td>Y</td>\n",
              "      <td>Consistent</td>\n",
              "      <td>US</td>\n",
              "      <td>0.00</td>\n",
              "      <td>0</td>\n",
              "      <td>2</td>\n",
              "      <td>0.00</td>\n",
              "      <td>0.00</td>\n",
              "      <td>Y</td>\n",
              "      <td>4.033333</td>\n",
              "    </tr>\n",
              "    <tr>\n",
              "      <th>2</th>\n",
              "      <td>Y</td>\n",
              "      <td>Prepandemic</td>\n",
              "      <td>1</td>\n",
              "      <td>N</td>\n",
              "      <td>Surveillance</td>\n",
              "      <td>64</td>\n",
              "      <td>M</td>\n",
              "      <td>ARLD</td>\n",
              "      <td>Y</td>\n",
              "      <td>52</td>\n",
              "      <td>...</td>\n",
              "      <td>Y</td>\n",
              "      <td>Consistent</td>\n",
              "      <td>US</td>\n",
              "      <td>0.00</td>\n",
              "      <td>0</td>\n",
              "      <td>0</td>\n",
              "      <td>0.00</td>\n",
              "      <td>0.00</td>\n",
              "      <td>Y</td>\n",
              "      <td>5.900000</td>\n",
              "    </tr>\n",
              "    <tr>\n",
              "      <th>3</th>\n",
              "      <td>Y</td>\n",
              "      <td>Prepandemic</td>\n",
              "      <td>1</td>\n",
              "      <td>N</td>\n",
              "      <td>Incidental</td>\n",
              "      <td>73</td>\n",
              "      <td>M</td>\n",
              "      <td>ARLD</td>\n",
              "      <td>Y</td>\n",
              "      <td>80</td>\n",
              "      <td>...</td>\n",
              "      <td>N</td>\n",
              "      <td>0</td>\n",
              "      <td>0</td>\n",
              "      <td>0.00</td>\n",
              "      <td>0</td>\n",
              "      <td>2</td>\n",
              "      <td>0.00</td>\n",
              "      <td>0.00</td>\n",
              "      <td>Y</td>\n",
              "      <td>0.000000</td>\n",
              "    </tr>\n",
              "    <tr>\n",
              "      <th>4</th>\n",
              "      <td>Y</td>\n",
              "      <td>Prepandemic</td>\n",
              "      <td>1</td>\n",
              "      <td>N</td>\n",
              "      <td>Incidental</td>\n",
              "      <td>66</td>\n",
              "      <td>F</td>\n",
              "      <td>ARLD</td>\n",
              "      <td>Y</td>\n",
              "      <td>60</td>\n",
              "      <td>...</td>\n",
              "      <td>N</td>\n",
              "      <td>0</td>\n",
              "      <td>0</td>\n",
              "      <td>0.00</td>\n",
              "      <td>0</td>\n",
              "      <td>0</td>\n",
              "      <td>0.00</td>\n",
              "      <td>0.00</td>\n",
              "      <td>Y</td>\n",
              "      <td>0.000000</td>\n",
              "    </tr>\n",
              "    <tr>\n",
              "      <th>...</th>\n",
              "      <td>...</td>\n",
              "      <td>...</td>\n",
              "      <td>...</td>\n",
              "      <td>...</td>\n",
              "      <td>...</td>\n",
              "      <td>...</td>\n",
              "      <td>...</td>\n",
              "      <td>...</td>\n",
              "      <td>...</td>\n",
              "      <td>...</td>\n",
              "      <td>...</td>\n",
              "      <td>...</td>\n",
              "      <td>...</td>\n",
              "      <td>...</td>\n",
              "      <td>...</td>\n",
              "      <td>...</td>\n",
              "      <td>...</td>\n",
              "      <td>...</td>\n",
              "      <td>...</td>\n",
              "      <td>...</td>\n",
              "      <td>...</td>\n",
              "    </tr>\n",
              "    <tr>\n",
              "      <th>445</th>\n",
              "      <td>N</td>\n",
              "      <td>Pandemic</td>\n",
              "      <td>12</td>\n",
              "      <td>0</td>\n",
              "      <td>Symptomatic</td>\n",
              "      <td>72</td>\n",
              "      <td>F</td>\n",
              "      <td>0</td>\n",
              "      <td>0</td>\n",
              "      <td>0</td>\n",
              "      <td>...</td>\n",
              "      <td>0</td>\n",
              "      <td>0</td>\n",
              "      <td>0</td>\n",
              "      <td>0.00</td>\n",
              "      <td>0</td>\n",
              "      <td>1</td>\n",
              "      <td>0.00</td>\n",
              "      <td>0.00</td>\n",
              "      <td>Y</td>\n",
              "      <td>0.000000</td>\n",
              "    </tr>\n",
              "    <tr>\n",
              "      <th>446</th>\n",
              "      <td>N</td>\n",
              "      <td>Pandemic</td>\n",
              "      <td>12</td>\n",
              "      <td>0</td>\n",
              "      <td>Symptomatic</td>\n",
              "      <td>63</td>\n",
              "      <td>M</td>\n",
              "      <td>0</td>\n",
              "      <td>0</td>\n",
              "      <td>75</td>\n",
              "      <td>...</td>\n",
              "      <td>0</td>\n",
              "      <td>0</td>\n",
              "      <td>0</td>\n",
              "      <td>2.93</td>\n",
              "      <td>0</td>\n",
              "      <td>0</td>\n",
              "      <td>1.63</td>\n",
              "      <td>1.63</td>\n",
              "      <td>Y</td>\n",
              "      <td>0.000000</td>\n",
              "    </tr>\n",
              "    <tr>\n",
              "      <th>447</th>\n",
              "      <td>N</td>\n",
              "      <td>Pandemic</td>\n",
              "      <td>12</td>\n",
              "      <td>0</td>\n",
              "      <td>Symptomatic</td>\n",
              "      <td>79</td>\n",
              "      <td>F</td>\n",
              "      <td>0</td>\n",
              "      <td>0</td>\n",
              "      <td>63</td>\n",
              "      <td>...</td>\n",
              "      <td>0</td>\n",
              "      <td>0</td>\n",
              "      <td>0</td>\n",
              "      <td>0.00</td>\n",
              "      <td>0</td>\n",
              "      <td>1</td>\n",
              "      <td>0.00</td>\n",
              "      <td>0.00</td>\n",
              "      <td>Y</td>\n",
              "      <td>0.000000</td>\n",
              "    </tr>\n",
              "    <tr>\n",
              "      <th>448</th>\n",
              "      <td>N</td>\n",
              "      <td>Pandemic</td>\n",
              "      <td>12</td>\n",
              "      <td>0</td>\n",
              "      <td>Symptomatic</td>\n",
              "      <td>84</td>\n",
              "      <td>F</td>\n",
              "      <td>0</td>\n",
              "      <td>0</td>\n",
              "      <td>65</td>\n",
              "      <td>...</td>\n",
              "      <td>0</td>\n",
              "      <td>0</td>\n",
              "      <td>0</td>\n",
              "      <td>0.00</td>\n",
              "      <td>0</td>\n",
              "      <td>2</td>\n",
              "      <td>0.00</td>\n",
              "      <td>0.00</td>\n",
              "      <td>Y</td>\n",
              "      <td>0.000000</td>\n",
              "    </tr>\n",
              "    <tr>\n",
              "      <th>449</th>\n",
              "      <td>N</td>\n",
              "      <td>Pandemic</td>\n",
              "      <td>12</td>\n",
              "      <td>0</td>\n",
              "      <td>Incidental</td>\n",
              "      <td>80</td>\n",
              "      <td>F</td>\n",
              "      <td>0</td>\n",
              "      <td>0</td>\n",
              "      <td>45</td>\n",
              "      <td>...</td>\n",
              "      <td>0</td>\n",
              "      <td>0</td>\n",
              "      <td>0</td>\n",
              "      <td>0.00</td>\n",
              "      <td>0</td>\n",
              "      <td>2</td>\n",
              "      <td>0.00</td>\n",
              "      <td>0.00</td>\n",
              "      <td>Y</td>\n",
              "      <td>0.000000</td>\n",
              "    </tr>\n",
              "  </tbody>\n",
              "</table>\n",
              "<p>450 rows × 27 columns</p>\n",
              "</div>\n",
              "    <div class=\"colab-df-buttons\">\n",
              "\n",
              "  <div class=\"colab-df-container\">\n",
              "    <button class=\"colab-df-convert\" onclick=\"convertToInteractive('df-a138a52d-5bdc-48d2-84a5-94799dbc1ac1')\"\n",
              "            title=\"Convert this dataframe to an interactive table.\"\n",
              "            style=\"display:none;\">\n",
              "\n",
              "  <svg xmlns=\"http://www.w3.org/2000/svg\" height=\"24px\" viewBox=\"0 -960 960 960\">\n",
              "    <path d=\"M120-120v-720h720v720H120Zm60-500h600v-160H180v160Zm220 220h160v-160H400v160Zm0 220h160v-160H400v160ZM180-400h160v-160H180v160Zm440 0h160v-160H620v160ZM180-180h160v-160H180v160Zm440 0h160v-160H620v160Z\"/>\n",
              "  </svg>\n",
              "    </button>\n",
              "\n",
              "  <style>\n",
              "    .colab-df-container {\n",
              "      display:flex;\n",
              "      gap: 12px;\n",
              "    }\n",
              "\n",
              "    .colab-df-convert {\n",
              "      background-color: #E8F0FE;\n",
              "      border: none;\n",
              "      border-radius: 50%;\n",
              "      cursor: pointer;\n",
              "      display: none;\n",
              "      fill: #1967D2;\n",
              "      height: 32px;\n",
              "      padding: 0 0 0 0;\n",
              "      width: 32px;\n",
              "    }\n",
              "\n",
              "    .colab-df-convert:hover {\n",
              "      background-color: #E2EBFA;\n",
              "      box-shadow: 0px 1px 2px rgba(60, 64, 67, 0.3), 0px 1px 3px 1px rgba(60, 64, 67, 0.15);\n",
              "      fill: #174EA6;\n",
              "    }\n",
              "\n",
              "    .colab-df-buttons div {\n",
              "      margin-bottom: 4px;\n",
              "    }\n",
              "\n",
              "    [theme=dark] .colab-df-convert {\n",
              "      background-color: #3B4455;\n",
              "      fill: #D2E3FC;\n",
              "    }\n",
              "\n",
              "    [theme=dark] .colab-df-convert:hover {\n",
              "      background-color: #434B5C;\n",
              "      box-shadow: 0px 1px 3px 1px rgba(0, 0, 0, 0.15);\n",
              "      filter: drop-shadow(0px 1px 2px rgba(0, 0, 0, 0.3));\n",
              "      fill: #FFFFFF;\n",
              "    }\n",
              "  </style>\n",
              "\n",
              "    <script>\n",
              "      const buttonEl =\n",
              "        document.querySelector('#df-a138a52d-5bdc-48d2-84a5-94799dbc1ac1 button.colab-df-convert');\n",
              "      buttonEl.style.display =\n",
              "        google.colab.kernel.accessAllowed ? 'block' : 'none';\n",
              "\n",
              "      async function convertToInteractive(key) {\n",
              "        const element = document.querySelector('#df-a138a52d-5bdc-48d2-84a5-94799dbc1ac1');\n",
              "        const dataTable =\n",
              "          await google.colab.kernel.invokeFunction('convertToInteractive',\n",
              "                                                    [key], {});\n",
              "        if (!dataTable) return;\n",
              "\n",
              "        const docLinkHtml = 'Like what you see? Visit the ' +\n",
              "          '<a target=\"_blank\" href=https://colab.research.google.com/notebooks/data_table.ipynb>data table notebook</a>'\n",
              "          + ' to learn more about interactive tables.';\n",
              "        element.innerHTML = '';\n",
              "        dataTable['output_type'] = 'display_data';\n",
              "        await google.colab.output.renderOutput(dataTable, element);\n",
              "        const docLink = document.createElement('div');\n",
              "        docLink.innerHTML = docLinkHtml;\n",
              "        element.appendChild(docLink);\n",
              "      }\n",
              "    </script>\n",
              "  </div>\n",
              "\n",
              "\n",
              "<div id=\"df-aae41533-2704-4467-802c-54194b8ce928\">\n",
              "  <button class=\"colab-df-quickchart\" onclick=\"quickchart('df-aae41533-2704-4467-802c-54194b8ce928')\"\n",
              "            title=\"Suggest charts\"\n",
              "            style=\"display:none;\">\n",
              "\n",
              "<svg xmlns=\"http://www.w3.org/2000/svg\" height=\"24px\"viewBox=\"0 0 24 24\"\n",
              "     width=\"24px\">\n",
              "    <g>\n",
              "        <path d=\"M19 3H5c-1.1 0-2 .9-2 2v14c0 1.1.9 2 2 2h14c1.1 0 2-.9 2-2V5c0-1.1-.9-2-2-2zM9 17H7v-7h2v7zm4 0h-2V7h2v10zm4 0h-2v-4h2v4z\"/>\n",
              "    </g>\n",
              "</svg>\n",
              "  </button>\n",
              "\n",
              "<style>\n",
              "  .colab-df-quickchart {\n",
              "      --bg-color: #E8F0FE;\n",
              "      --fill-color: #1967D2;\n",
              "      --hover-bg-color: #E2EBFA;\n",
              "      --hover-fill-color: #174EA6;\n",
              "      --disabled-fill-color: #AAA;\n",
              "      --disabled-bg-color: #DDD;\n",
              "  }\n",
              "\n",
              "  [theme=dark] .colab-df-quickchart {\n",
              "      --bg-color: #3B4455;\n",
              "      --fill-color: #D2E3FC;\n",
              "      --hover-bg-color: #434B5C;\n",
              "      --hover-fill-color: #FFFFFF;\n",
              "      --disabled-bg-color: #3B4455;\n",
              "      --disabled-fill-color: #666;\n",
              "  }\n",
              "\n",
              "  .colab-df-quickchart {\n",
              "    background-color: var(--bg-color);\n",
              "    border: none;\n",
              "    border-radius: 50%;\n",
              "    cursor: pointer;\n",
              "    display: none;\n",
              "    fill: var(--fill-color);\n",
              "    height: 32px;\n",
              "    padding: 0;\n",
              "    width: 32px;\n",
              "  }\n",
              "\n",
              "  .colab-df-quickchart:hover {\n",
              "    background-color: var(--hover-bg-color);\n",
              "    box-shadow: 0 1px 2px rgba(60, 64, 67, 0.3), 0 1px 3px 1px rgba(60, 64, 67, 0.15);\n",
              "    fill: var(--button-hover-fill-color);\n",
              "  }\n",
              "\n",
              "  .colab-df-quickchart-complete:disabled,\n",
              "  .colab-df-quickchart-complete:disabled:hover {\n",
              "    background-color: var(--disabled-bg-color);\n",
              "    fill: var(--disabled-fill-color);\n",
              "    box-shadow: none;\n",
              "  }\n",
              "\n",
              "  .colab-df-spinner {\n",
              "    border: 2px solid var(--fill-color);\n",
              "    border-color: transparent;\n",
              "    border-bottom-color: var(--fill-color);\n",
              "    animation:\n",
              "      spin 1s steps(1) infinite;\n",
              "  }\n",
              "\n",
              "  @keyframes spin {\n",
              "    0% {\n",
              "      border-color: transparent;\n",
              "      border-bottom-color: var(--fill-color);\n",
              "      border-left-color: var(--fill-color);\n",
              "    }\n",
              "    20% {\n",
              "      border-color: transparent;\n",
              "      border-left-color: var(--fill-color);\n",
              "      border-top-color: var(--fill-color);\n",
              "    }\n",
              "    30% {\n",
              "      border-color: transparent;\n",
              "      border-left-color: var(--fill-color);\n",
              "      border-top-color: var(--fill-color);\n",
              "      border-right-color: var(--fill-color);\n",
              "    }\n",
              "    40% {\n",
              "      border-color: transparent;\n",
              "      border-right-color: var(--fill-color);\n",
              "      border-top-color: var(--fill-color);\n",
              "    }\n",
              "    60% {\n",
              "      border-color: transparent;\n",
              "      border-right-color: var(--fill-color);\n",
              "    }\n",
              "    80% {\n",
              "      border-color: transparent;\n",
              "      border-right-color: var(--fill-color);\n",
              "      border-bottom-color: var(--fill-color);\n",
              "    }\n",
              "    90% {\n",
              "      border-color: transparent;\n",
              "      border-bottom-color: var(--fill-color);\n",
              "    }\n",
              "  }\n",
              "</style>\n",
              "\n",
              "  <script>\n",
              "    async function quickchart(key) {\n",
              "      const quickchartButtonEl =\n",
              "        document.querySelector('#' + key + ' button');\n",
              "      quickchartButtonEl.disabled = true;  // To prevent multiple clicks.\n",
              "      quickchartButtonEl.classList.add('colab-df-spinner');\n",
              "      try {\n",
              "        const charts = await google.colab.kernel.invokeFunction(\n",
              "            'suggestCharts', [key], {});\n",
              "      } catch (error) {\n",
              "        console.error('Error during call to suggestCharts:', error);\n",
              "      }\n",
              "      quickchartButtonEl.classList.remove('colab-df-spinner');\n",
              "      quickchartButtonEl.classList.add('colab-df-quickchart-complete');\n",
              "    }\n",
              "    (() => {\n",
              "      let quickchartButtonEl =\n",
              "        document.querySelector('#df-aae41533-2704-4467-802c-54194b8ce928 button');\n",
              "      quickchartButtonEl.style.display =\n",
              "        google.colab.kernel.accessAllowed ? 'block' : 'none';\n",
              "    })();\n",
              "  </script>\n",
              "</div>\n",
              "\n",
              "  <div id=\"id_554b8bf1-12a6-496e-bec8-a9bf44974e5c\">\n",
              "    <style>\n",
              "      .colab-df-generate {\n",
              "        background-color: #E8F0FE;\n",
              "        border: none;\n",
              "        border-radius: 50%;\n",
              "        cursor: pointer;\n",
              "        display: none;\n",
              "        fill: #1967D2;\n",
              "        height: 32px;\n",
              "        padding: 0 0 0 0;\n",
              "        width: 32px;\n",
              "      }\n",
              "\n",
              "      .colab-df-generate:hover {\n",
              "        background-color: #E2EBFA;\n",
              "        box-shadow: 0px 1px 2px rgba(60, 64, 67, 0.3), 0px 1px 3px 1px rgba(60, 64, 67, 0.15);\n",
              "        fill: #174EA6;\n",
              "      }\n",
              "\n",
              "      [theme=dark] .colab-df-generate {\n",
              "        background-color: #3B4455;\n",
              "        fill: #D2E3FC;\n",
              "      }\n",
              "\n",
              "      [theme=dark] .colab-df-generate:hover {\n",
              "        background-color: #434B5C;\n",
              "        box-shadow: 0px 1px 3px 1px rgba(0, 0, 0, 0.15);\n",
              "        filter: drop-shadow(0px 1px 2px rgba(0, 0, 0, 0.3));\n",
              "        fill: #FFFFFF;\n",
              "      }\n",
              "    </style>\n",
              "    <button class=\"colab-df-generate\" onclick=\"generateWithVariable('df')\"\n",
              "            title=\"Generate code using this dataframe.\"\n",
              "            style=\"display:none;\">\n",
              "\n",
              "  <svg xmlns=\"http://www.w3.org/2000/svg\" height=\"24px\"viewBox=\"0 0 24 24\"\n",
              "       width=\"24px\">\n",
              "    <path d=\"M7,19H8.4L18.45,9,17,7.55,7,17.6ZM5,21V16.75L18.45,3.32a2,2,0,0,1,2.83,0l1.4,1.43a1.91,1.91,0,0,1,.58,1.4,1.91,1.91,0,0,1-.58,1.4L9.25,21ZM18.45,9,17,7.55Zm-12,3A5.31,5.31,0,0,0,4.9,8.1,5.31,5.31,0,0,0,1,6.5,5.31,5.31,0,0,0,4.9,4.9,5.31,5.31,0,0,0,6.5,1,5.31,5.31,0,0,0,8.1,4.9,5.31,5.31,0,0,0,12,6.5,5.46,5.46,0,0,0,6.5,12Z\"/>\n",
              "  </svg>\n",
              "    </button>\n",
              "    <script>\n",
              "      (() => {\n",
              "      const buttonEl =\n",
              "        document.querySelector('#id_554b8bf1-12a6-496e-bec8-a9bf44974e5c button.colab-df-generate');\n",
              "      buttonEl.style.display =\n",
              "        google.colab.kernel.accessAllowed ? 'block' : 'none';\n",
              "\n",
              "      buttonEl.onclick = () => {\n",
              "        google.colab.notebook.generateWithVariable('df');\n",
              "      }\n",
              "      })();\n",
              "    </script>\n",
              "  </div>\n",
              "\n",
              "    </div>\n",
              "  </div>\n"
            ],
            "application/vnd.google.colaboratory.intrinsic+json": {
              "type": "dataframe",
              "variable_name": "df"
            }
          },
          "metadata": {},
          "execution_count": 32
        }
      ]
    },
    {
      "cell_type": "code",
      "source": [
        "df.info()"
      ],
      "metadata": {
        "colab": {
          "base_uri": "https://localhost:8080/"
        },
        "id": "Xanl17_WjR9I",
        "outputId": "4ca9ba1a-3af2-4c46-a777-e431a4ca0f4c"
      },
      "execution_count": 33,
      "outputs": [
        {
          "output_type": "stream",
          "name": "stdout",
          "text": [
            "<class 'pandas.core.frame.DataFrame'>\n",
            "RangeIndex: 450 entries, 0 to 449\n",
            "Data columns (total 27 columns):\n",
            " #   Column                              Non-Null Count  Dtype  \n",
            "---  ------                              --------------  -----  \n",
            " 0   Cancer                              450 non-null    object \n",
            " 1   Year                                450 non-null    object \n",
            " 2   Month                               450 non-null    int64  \n",
            " 3   Bleed                               450 non-null    object \n",
            " 4   Mode_Presentation                   450 non-null    object \n",
            " 5   Age                                 450 non-null    int64  \n",
            " 6   Gender                              450 non-null    object \n",
            " 7   Etiology                            450 non-null    object \n",
            " 8   Cirrhosis                           450 non-null    object \n",
            " 9   Size                                450 non-null    int64  \n",
            " 10  HCC_TNM_Stage                       450 non-null    object \n",
            " 11  HCC_BCLC_Stage                      450 non-null    object \n",
            " 12  ICC_TNM_Stage                       450 non-null    object \n",
            " 13  Treatment_grps                      450 non-null    object \n",
            " 14  Survival_fromMDM                    450 non-null    float64\n",
            " 15  Alive_Dead                          450 non-null    object \n",
            " 16  Type_of_incidental_finding          450 non-null    object \n",
            " 17  Surveillance_programme              450 non-null    object \n",
            " 18  Surveillance_effectiveness          450 non-null    object \n",
            " 19  Mode_of_surveillance_detection      450 non-null    object \n",
            " 20  Time_diagnosis_1st_Tx               450 non-null    float64\n",
            " 21  Date_incident_surveillance_scan     450 non-null    object \n",
            " 22  PS                                  450 non-null    int64  \n",
            " 23  Time_MDM_1st_treatment              450 non-null    float64\n",
            " 24  Time_decisiontotreat_1st_treatment  450 non-null    float64\n",
            " 25  Prev_known_cirrhosis                450 non-null    object \n",
            " 26  Months_from_last_surveillance       450 non-null    float64\n",
            "dtypes: float64(5), int64(4), object(18)\n",
            "memory usage: 95.0+ KB\n"
          ]
        }
      ]
    },
    {
      "cell_type": "code",
      "source": [
        "df.isnull().sum()"
      ],
      "metadata": {
        "colab": {
          "base_uri": "https://localhost:8080/"
        },
        "id": "Vpfmy-oRjcoB",
        "outputId": "7984f61d-d5be-4dd4-8fdc-5fb653461d59"
      },
      "execution_count": 34,
      "outputs": [
        {
          "output_type": "execute_result",
          "data": {
            "text/plain": [
              "Cancer                                0\n",
              "Year                                  0\n",
              "Month                                 0\n",
              "Bleed                                 0\n",
              "Mode_Presentation                     0\n",
              "Age                                   0\n",
              "Gender                                0\n",
              "Etiology                              0\n",
              "Cirrhosis                             0\n",
              "Size                                  0\n",
              "HCC_TNM_Stage                         0\n",
              "HCC_BCLC_Stage                        0\n",
              "ICC_TNM_Stage                         0\n",
              "Treatment_grps                        0\n",
              "Survival_fromMDM                      0\n",
              "Alive_Dead                            0\n",
              "Type_of_incidental_finding            0\n",
              "Surveillance_programme                0\n",
              "Surveillance_effectiveness            0\n",
              "Mode_of_surveillance_detection        0\n",
              "Time_diagnosis_1st_Tx                 0\n",
              "Date_incident_surveillance_scan       0\n",
              "PS                                    0\n",
              "Time_MDM_1st_treatment                0\n",
              "Time_decisiontotreat_1st_treatment    0\n",
              "Prev_known_cirrhosis                  0\n",
              "Months_from_last_surveillance         0\n",
              "dtype: int64"
            ]
          },
          "metadata": {},
          "execution_count": 34
        }
      ]
    },
    {
      "cell_type": "code",
      "source": [
        "df.nunique()"
      ],
      "metadata": {
        "colab": {
          "base_uri": "https://localhost:8080/"
        },
        "id": "l9fsURiZjfxV",
        "outputId": "58d8f938-9c81-487e-86c2-ff6548bc1dc0"
      },
      "execution_count": 35,
      "outputs": [
        {
          "output_type": "execute_result",
          "data": {
            "text/plain": [
              "Cancer                                  2\n",
              "Year                                    2\n",
              "Month                                  12\n",
              "Bleed                                   3\n",
              "Mode_Presentation                       3\n",
              "Age                                    54\n",
              "Gender                                  2\n",
              "Etiology                                9\n",
              "Cirrhosis                               3\n",
              "Size                                   95\n",
              "HCC_TNM_Stage                           5\n",
              "HCC_BCLC_Stage                          5\n",
              "ICC_TNM_Stage                           5\n",
              "Treatment_grps                          8\n",
              "Survival_fromMDM                      307\n",
              "Alive_Dead                              2\n",
              "Type_of_incidental_finding              5\n",
              "Surveillance_programme                  3\n",
              "Surveillance_effectiveness              4\n",
              "Mode_of_surveillance_detection          4\n",
              "Time_diagnosis_1st_Tx                  93\n",
              "Date_incident_surveillance_scan         3\n",
              "PS                                      5\n",
              "Time_MDM_1st_treatment                 94\n",
              "Time_decisiontotreat_1st_treatment     63\n",
              "Prev_known_cirrhosis                    3\n",
              "Months_from_last_surveillance          96\n",
              "dtype: int64"
            ]
          },
          "metadata": {},
          "execution_count": 35
        }
      ]
    },
    {
      "cell_type": "code",
      "source": [
        "df.Size.value_counts()"
      ],
      "metadata": {
        "colab": {
          "base_uri": "https://localhost:8080/"
        },
        "id": "HJ8-ERu7jkUu",
        "outputId": "b5ebc23d-2fec-4709-fcc8-850e385381bc"
      },
      "execution_count": 36,
      "outputs": [
        {
          "output_type": "execute_result",
          "data": {
            "text/plain": [
              "Size\n",
              "0      50\n",
              "20     17\n",
              "40     16\n",
              "100    15\n",
              "14     13\n",
              "       ..\n",
              "12      1\n",
              "96      1\n",
              "41      1\n",
              "72      1\n",
              "63      1\n",
              "Name: count, Length: 95, dtype: int64"
            ]
          },
          "metadata": {},
          "execution_count": 36
        }
      ]
    },
    {
      "cell_type": "code",
      "source": [
        "df.Size.hist()"
      ],
      "metadata": {
        "colab": {
          "base_uri": "https://localhost:8080/",
          "height": 450
        },
        "id": "kL3aUqKvjwbI",
        "outputId": "1253f801-078f-4e43-8244-9e23b2dce606"
      },
      "execution_count": 37,
      "outputs": [
        {
          "output_type": "execute_result",
          "data": {
            "text/plain": [
              "<Axes: >"
            ]
          },
          "metadata": {},
          "execution_count": 37
        },
        {
          "output_type": "display_data",
          "data": {
            "text/plain": [
              "<Figure size 640x480 with 1 Axes>"
            ],
            "image/png": "[encoded data removed]"
          },
          "metadata": {}
        }
      ]
    },
    {
      "cell_type": "code",
      "source": [
        "df.Age.hist(color='blue', grid=False)"
      ],
      "metadata": {
        "colab": {
          "base_uri": "https://localhost:8080/",
          "height": 447
        },
        "id": "td8kSSjuj5FE",
        "outputId": "d0bf6d21-a01c-4d8d-e020-4c8032a55538"
      },
      "execution_count": 38,
      "outputs": [
        {
          "output_type": "execute_result",
          "data": {
            "text/plain": [
              "<Axes: >"
            ]
          },
          "metadata": {},
          "execution_count": 38
        },
        {
          "output_type": "display_data",
          "data": {
            "text/plain": [
              "<Figure size 640x480 with 1 Axes>"
            ],
            "image/png": "[encoded data removed]"
          },
          "metadata": {}
        }
      ]
    },
    {
      "cell_type": "code",
      "source": [
        "sns.kdeplot(df.Age, fill=True, color='blue', alpha=0.7)\n",
        "\n",
        "plt.xlabel('Age')\n",
        "plt.ylabel('Density')\n",
        "plt.title('KDE Plot of Age')\n",
        "\n",
        "plt.show()"
      ],
      "metadata": {
        "colab": {
          "base_uri": "https://localhost:8080/",
          "height": 472
        },
        "id": "5V4q_RnPkMQ5",
        "outputId": "23c7ee48-0325-454a-cf31-f9f9962bc056"
      },
      "execution_count": 39,
      "outputs": [
        {
          "output_type": "display_data",
          "data": {
            "text/plain": [
              "<Figure size 640x480 with 1 Axes>"
            ],
            "image/png": "[encoded data removed]"
          },
          "metadata": {}
        }
      ]
    },
    {
      "cell_type": "code",
      "source": [
        "r, p = stats.pearsonr(df.Age, df.Size)"
      ],
      "metadata": {
        "id": "kw2uVNsPkZlL"
      },
      "execution_count": 43,
      "outputs": []
    },
    {
      "cell_type": "code",
      "source": [
        "r, p"
      ],
      "metadata": {
        "colab": {
          "base_uri": "https://localhost:8080/"
        },
        "id": "A2IyZ5fLrhU2",
        "outputId": "1ae5d0d4-99fe-4d5c-e263-0c6df987ba1a"
      },
      "execution_count": 44,
      "outputs": [
        {
          "output_type": "execute_result",
          "data": {
            "text/plain": [
              "(0.06740811914465789, 0.15341015065143146)"
            ]
          },
          "metadata": {},
          "execution_count": 44
        }
      ]
    },
    {
      "cell_type": "code",
      "source": [
        "df.Alive_Dead.describe()"
      ],
      "metadata": {
        "colab": {
          "base_uri": "https://localhost:8080/"
        },
        "id": "0o6U8eWormHn",
        "outputId": "3edec111-268f-47cc-d27d-2203de8a8aad"
      },
      "execution_count": 45,
      "outputs": [
        {
          "output_type": "execute_result",
          "data": {
            "text/plain": [
              "count      450\n",
              "unique       2\n",
              "top       Dead\n",
              "freq       264\n",
              "Name: Alive_Dead, dtype: object"
            ]
          },
          "metadata": {},
          "execution_count": 45
        }
      ]
    },
    {
      "cell_type": "code",
      "source": [
        "plt.scatter(df.Age, df.PS)\n",
        "\n",
        "plt.xlabel('Age')\n",
        "plt.ylabel('PS')\n",
        "plt.show()"
      ],
      "metadata": {
        "colab": {
          "base_uri": "https://localhost:8080/",
          "height": 449
        },
        "id": "L9p5eusCrrwV",
        "outputId": "340bceea-a814-4eaf-d213-bb1fa8079792"
      },
      "execution_count": 48,
      "outputs": [
        {
          "output_type": "display_data",
          "data": {
            "text/plain": [
              "<Figure size 640x480 with 1 Axes>"
            ],
            "image/png": "[encoded data removed]"
          },
          "metadata": {}
        }
      ]
    },
    {
      "cell_type": "code",
      "source": [
        "df_sampled = df.sample(2)"
      ],
      "metadata": {
        "id": "qpFHewLZr6Xn"
      },
      "execution_count": 49,
      "outputs": []
    },
    {
      "cell_type": "code",
      "source": [
        "plt.scatter(df_sampled.Cancer, df_sampled.Age)"
      ],
      "metadata": {
        "colab": {
          "base_uri": "https://localhost:8080/",
          "height": 447
        },
        "id": "kPcEW-E3sNts",
        "outputId": "4828a1e1-aab7-49f3-b9b0-2fb47104266a"
      },
      "execution_count": 55,
      "outputs": [
        {
          "output_type": "execute_result",
          "data": {
            "text/plain": [
              "<matplotlib.collections.PathCollection at 0x7ed27339a080>"
            ]
          },
          "metadata": {},
          "execution_count": 55
        },
        {
          "output_type": "display_data",
          "data": {
            "text/plain": [
              "<Figure size 640x480 with 1 Axes>"
            ],
            "image/png": "[encoded data removed]"
          },
          "metadata": {}
        }
      ]
    },
    {
      "cell_type": "code",
      "source": [
        "df_male = df[df['Gender']== 'M']\n",
        "df_female = df[df['Gender']== 'F']"
      ],
      "metadata": {
        "id": "yEEEkewLsoZ0"
      },
      "execution_count": 57,
      "outputs": []
    },
    {
      "cell_type": "code",
      "source": [
        "plt.scatter(df_male.Age, df_male.Alive_Dead, marker='^', color='tan', label='male')\n",
        "plt.scatter(df_female.Age, df_female.Alive_Dead, marker='x', color='gold', label='female')\n",
        "\n",
        "plt.legend()\n",
        "plt.xlabel('Age')\n",
        "plt.ylabel('Alive_Dead')\n",
        "plt.show()\n"
      ],
      "metadata": {
        "colab": {
          "base_uri": "https://localhost:8080/",
          "height": 449
        },
        "id": "O8cM43t7tDXy",
        "outputId": "4ba0369f-aa26-4c8b-d8df-8f8db81d0a1a"
      },
      "execution_count": 61,
      "outputs": [
        {
          "output_type": "display_data",
          "data": {
            "text/plain": [
              "<Figure size 640x480 with 1 Axes>"
            ],
            "image/png": "[encoded data removed]"
          },
          "metadata": {}
        }
      ]
    },
    {
      "cell_type": "code",
      "source": [
        "plt.scatter(df.Age, df.Alive_Dead)\n",
        "\n",
        "plt.title('Age vs Alive or Dead')\n",
        "plt.xlabel('Age')\n",
        "plt.ylabel('Alive or Dead')\n",
        "plt.show()"
      ],
      "metadata": {
        "colab": {
          "base_uri": "https://localhost:8080/",
          "height": 472
        },
        "id": "vqouWly3uFHL",
        "outputId": "25284c75-1116-4e03-9269-ae84c72b5517"
      },
      "execution_count": 64,
      "outputs": [
        {
          "output_type": "display_data",
          "data": {
            "text/plain": [
              "<Figure size 640x480 with 1 Axes>"
            ],
            "image/png": "[encoded data removed]"
          },
          "metadata": {}
        }
      ]
    },
    {
      "cell_type": "code",
      "source": [
        "x = range(df.Age.min(), df.Age.max())"
      ],
      "metadata": {
        "id": "ni4kzQO_uVkT"
      },
      "execution_count": 66,
      "outputs": []
    },
    {
      "cell_type": "code",
      "source": [
        "x"
      ],
      "metadata": {
        "colab": {
          "base_uri": "https://localhost:8080/"
        },
        "id": "ncdT7e4ctwV8",
        "outputId": "dda4bfeb-a672-45b9-9f96-89d05adf4055"
      },
      "execution_count": 67,
      "outputs": [
        {
          "output_type": "execute_result",
          "data": {
            "text/plain": [
              "range(27, 96)"
            ]
          },
          "metadata": {},
          "execution_count": 67
        }
      ]
    },
    {
      "cell_type": "code",
      "source": [
        "df.Size.describe()\n"
      ],
      "metadata": {
        "colab": {
          "base_uri": "https://localhost:8080/"
        },
        "id": "_HB0IRo9up4z",
        "outputId": "74307bcf-9796-4b8d-b369-b55fec7ae918"
      },
      "execution_count": 70,
      "outputs": [
        {
          "output_type": "execute_result",
          "data": {
            "text/plain": [
              "count    450.000000\n",
              "mean      47.426667\n",
              "std       41.518935\n",
              "min        0.000000\n",
              "25%       20.000000\n",
              "50%       36.000000\n",
              "75%       66.500000\n",
              "max      220.000000\n",
              "Name: Size, dtype: float64"
            ]
          },
          "metadata": {},
          "execution_count": 70
        }
      ]
    },
    {
      "cell_type": "code",
      "source": [
        "m, b, r, p, err = stats.linregress(df.Age, df.Size)\n",
        "\n",
        "x = range(15, 53)\n",
        "y = m * x + b\n",
        "\n",
        "plt.plot(x, y, color='black')\n",
        "plt.scatter(df.Age, df.Size)\n",
        "\n",
        "plt.title('Age vs Size')\n",
        "plt.xlabel('Age')\n",
        "plt.ylabel('Size')\n",
        "plt.show()"
      ],
      "metadata": {
        "colab": {
          "base_uri": "https://localhost:8080/",
          "height": 472
        },
        "id": "_5xRXczku7EA",
        "outputId": "795af8c4-8b3c-4978-ba08-d1f5e193b829"
      },
      "execution_count": 74,
      "outputs": [
        {
          "output_type": "display_data",
          "data": {
            "text/plain": [
              "<Figure size 640x480 with 1 Axes>"
            ],
            "image/png": "[encoded data removed]"
          },
          "metadata": {}
        }
      ]
    },
    {
      "cell_type": "code",
      "source": [
        "m, b, r, p, err = stats.linregress(df_sampled.Age, df_sampled.Size)\n",
        "\n",
        "x = range(15, 53)\n",
        "y = m * x + b\n",
        "\n",
        "plt.plot(x, y, color='black')\n",
        "plt.scatter(df_sampled.Age, df_sampled.Size)\n",
        "\n",
        "plt.title('age vs size')\n",
        "plt.xlabel('age')\n",
        "plt.ylabel('size')\n",
        "plt.show()"
      ],
      "metadata": {
        "colab": {
          "base_uri": "https://localhost:8080/",
          "height": 472
        },
        "id": "BsV01bPrvOct",
        "outputId": "5d21c5b4-b0d1-442a-d91d-a14ec028b12c"
      },
      "execution_count": 75,
      "outputs": [
        {
          "output_type": "display_data",
          "data": {
            "text/plain": [
              "<Figure size 640x480 with 1 Axes>"
            ],
            "image/png": "[encoded data removed]"
          },
          "metadata": {}
        }
      ]
    }
  ]
}